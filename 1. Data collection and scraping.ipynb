{
 "cells": [
  {
   "cell_type": "markdown",
   "metadata": {},
   "source": [
    "## Importing packages"
   ]
  },
  {
   "cell_type": "code",
   "execution_count": 16,
   "metadata": {},
   "outputs": [],
   "source": [
    "import pandas as pd\n",
    "from bs4 import BeautifulSoup\n",
    "import requests"
   ]
  },
  {
   "cell_type": "markdown",
   "metadata": {},
   "source": [
    "## Getting the RSS feed in `XML` format\n",
    "Using BeautifulSoup to parse the `.xml` file"
   ]
  },
  {
   "cell_type": "code",
   "execution_count": 2,
   "metadata": {},
   "outputs": [],
   "source": [
    "url = 'https://pbcdn1.podbean.com/criticalrolepodcast.geekandsundry.com/feed.xml'\n",
    "response = requests.get(url)\n",
    "\n",
    "soup = BeautifulSoup(response.content, 'xml')"
   ]
  },
  {
   "cell_type": "markdown",
   "metadata": {},
   "source": [
    "## Constructing the dataframe\n",
    "Loop through the soup object and extract individual episodes and relevant metadata."
   ]
  },
  {
   "cell_type": "code",
   "execution_count": 24,
   "metadata": {},
   "outputs": [],
   "source": [
    "# List of episodes\n",
    "episodes = []\n",
    "\n",
    "# 'item' class references each individual epsiode\n",
    "for i in soup.find_all('item'):\n",
    "    episode = {}\n",
    "    episode['title'] = i.find('title').text\n",
    "    episode['link'] = i.find('enclosure')['url']\n",
    "    episode['ep_number'] = int(i.find('itunes:episode').text)\n",
    "    episode['duration'] = i.find('itunes:duration').text\n",
    "    episodes.append(episode)"
   ]
  },
  {
   "cell_type": "code",
   "execution_count": 25,
   "metadata": {},
   "outputs": [],
   "source": [
    "# Converting to dataframe\n",
    "episodes_df = pd.DataFrame(episodes)"
   ]
  },
  {
   "cell_type": "code",
   "execution_count": 26,
   "metadata": {},
   "outputs": [
    {
     "data": {
      "text/html": [
       "<div>\n",
       "<style scoped>\n",
       "    .dataframe tbody tr th:only-of-type {\n",
       "        vertical-align: middle;\n",
       "    }\n",
       "\n",
       "    .dataframe tbody tr th {\n",
       "        vertical-align: top;\n",
       "    }\n",
       "\n",
       "    .dataframe thead th {\n",
       "        text-align: right;\n",
       "    }\n",
       "</style>\n",
       "<table border=\"1\" class=\"dataframe\">\n",
       "  <thead>\n",
       "    <tr style=\"text-align: right;\">\n",
       "      <th></th>\n",
       "      <th>duration</th>\n",
       "      <th>ep_number</th>\n",
       "      <th>link</th>\n",
       "      <th>title</th>\n",
       "    </tr>\n",
       "  </thead>\n",
       "  <tbody>\n",
       "    <tr>\n",
       "      <th>0</th>\n",
       "      <td>03:28:53</td>\n",
       "      <td>166</td>\n",
       "      <td>https://mcdn.podbean.com/mf/web/c9dzik/2049_CR...</td>\n",
       "      <td>Campaign 2 Ep. 49 - A Game of Names</td>\n",
       "    </tr>\n",
       "    <tr>\n",
       "      <th>1</th>\n",
       "      <td>03:56:09</td>\n",
       "      <td>165</td>\n",
       "      <td>https://mcdn.podbean.com/mf/web/cm35r9/2048_CR...</td>\n",
       "      <td>Campaign 2 Ep. 48 - Homeward Bound</td>\n",
       "    </tr>\n",
       "    <tr>\n",
       "      <th>2</th>\n",
       "      <td>03:35:49</td>\n",
       "      <td>164</td>\n",
       "      <td>https://mcdn.podbean.com/mf/web/e5cn5u/2047_CR...</td>\n",
       "      <td>Campaign 2 Ep. 47 - The Second Seal</td>\n",
       "    </tr>\n",
       "    <tr>\n",
       "      <th>3</th>\n",
       "      <td>03:59:04</td>\n",
       "      <td>163</td>\n",
       "      <td>https://mcdn.podbean.com/mf/web/zje7mn/2046_CR...</td>\n",
       "      <td>Campaign 2 Ep. 46 - A Storm of Memories</td>\n",
       "    </tr>\n",
       "    <tr>\n",
       "      <th>4</th>\n",
       "      <td>04:59:05</td>\n",
       "      <td>162</td>\n",
       "      <td>https://mcdn.podbean.com/mf/web/fyawaf/2045_CR...</td>\n",
       "      <td>Campaign 2 Ep. 45 - The Stowaway</td>\n",
       "    </tr>\n",
       "  </tbody>\n",
       "</table>\n",
       "</div>"
      ],
      "text/plain": [
       "   duration  ep_number                                               link  \\\n",
       "0  03:28:53        166  https://mcdn.podbean.com/mf/web/c9dzik/2049_CR...   \n",
       "1  03:56:09        165  https://mcdn.podbean.com/mf/web/cm35r9/2048_CR...   \n",
       "2  03:35:49        164  https://mcdn.podbean.com/mf/web/e5cn5u/2047_CR...   \n",
       "3  03:59:04        163  https://mcdn.podbean.com/mf/web/zje7mn/2046_CR...   \n",
       "4  04:59:05        162  https://mcdn.podbean.com/mf/web/fyawaf/2045_CR...   \n",
       "\n",
       "                                     title  \n",
       "0      Campaign 2 Ep. 49 - A Game of Names  \n",
       "1       Campaign 2 Ep. 48 - Homeward Bound  \n",
       "2      Campaign 2 Ep. 47 - The Second Seal  \n",
       "3  Campaign 2 Ep. 46 - A Storm of Memories  \n",
       "4         Campaign 2 Ep. 45 - The Stowaway  "
      ]
     },
     "execution_count": 26,
     "metadata": {},
     "output_type": "execute_result"
    }
   ],
   "source": [
    "# Checking results\n",
    "episodes_df.head()"
   ]
  },
  {
   "cell_type": "markdown",
   "metadata": {},
   "source": [
    "## Downloading episodes of interest\n",
    "From the resulting dataframe, I'll download and save enough episodes for this project."
   ]
  },
  {
   "cell_type": "code",
   "execution_count": 13,
   "metadata": {},
   "outputs": [],
   "source": [
    "def download(url, file_name):\n",
    "    # open in binary mode\n",
    "    with open(file_name, \"wb\") as file:\n",
    "        # get request\n",
    "        response = requests.get(url)\n",
    "        # write to file\n",
    "        file.write(response.content)"
   ]
  },
  {
   "cell_type": "code",
   "execution_count": 47,
   "metadata": {},
   "outputs": [],
   "source": [
    "# Downloading episodes 30 to 40:\n",
    "for i in range(30,41):\n",
    "    # Store row of the individual episode\n",
    "    episode = episodes_df[episodes_df['ep_number'] == i]\n",
    "    \n",
    "    # Set the download url\n",
    "    url = episode['link'].values[0]\n",
    "    \n",
    "    # Set the filename and path\n",
    "    filename = './data/episode_' + str(i) + '.mp3'\n",
    "    \n",
    "    # Download the file\n",
    "    download(url, filename)\n",
    "    "
   ]
  },
  {
   "cell_type": "code",
   "execution_count": null,
   "metadata": {},
   "outputs": [],
   "source": []
  }
 ],
 "metadata": {
  "kernelspec": {
   "display_name": "Python [default]",
   "language": "python",
   "name": "python3"
  },
  "language_info": {
   "codemirror_mode": {
    "name": "ipython",
    "version": 3
   },
   "file_extension": ".py",
   "mimetype": "text/x-python",
   "name": "python",
   "nbconvert_exporter": "python",
   "pygments_lexer": "ipython3",
   "version": "3.6.8"
  }
 },
 "nbformat": 4,
 "nbformat_minor": 2
}
